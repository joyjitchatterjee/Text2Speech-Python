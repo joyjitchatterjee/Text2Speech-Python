{
  "nbformat": 4,
  "nbformat_minor": 0,
  "metadata": {
    "colab": {
      "name": "Colab_TTS_Example.ipynb",
      "provenance": [],
      "collapsed_sections": []
    },
    "kernelspec": {
      "name": "python3",
      "display_name": "Python 3"
    }
  },
  "cells": [
    {
      "cell_type": "code",
      "metadata": {
        "id": "WymsRTE-7OpX",
        "outputId": "da7cb3e5-334d-4da9-f4b4-0ff5ee5fe9b7",
        "colab": {
          "base_uri": "https://localhost:8080/",
          "height": 497
        }
      },
      "source": [
        "\n",
        "!pip install gTTS"
      ],
      "execution_count": null,
      "outputs": [
        {
          "output_type": "stream",
          "text": [
            "Collecting gTTS\n",
            "  Downloading https://files.pythonhosted.org/packages/e6/37/f55346a736278f0eb0ae9f7edee1a61028735ef0010db68a2e6fcd0ece56/gTTS-2.0.3.tar.gz\n",
            "Requirement already satisfied: six in /usr/local/lib/python3.6/dist-packages (from gTTS) (1.12.0)\n",
            "Requirement already satisfied: bs4 in /usr/local/lib/python3.6/dist-packages (from gTTS) (0.0.1)\n",
            "Requirement already satisfied: click in /usr/local/lib/python3.6/dist-packages (from gTTS) (7.0)\n",
            "Requirement already satisfied: requests in /usr/local/lib/python3.6/dist-packages (from gTTS) (2.21.0)\n",
            "Collecting gtts_token (from gTTS)\n",
            "  Downloading https://files.pythonhosted.org/packages/e7/25/ca6e9cd3275bfc3097fe6b06cc31db6d3dfaf32e032e0f73fead9c9a03ce/gTTS-token-1.1.3.tar.gz\n",
            "Requirement already satisfied: beautifulsoup4 in /usr/local/lib/python3.6/dist-packages (from bs4->gTTS) (4.6.3)\n",
            "Requirement already satisfied: chardet<3.1.0,>=3.0.2 in /usr/local/lib/python3.6/dist-packages (from requests->gTTS) (3.0.4)\n",
            "Requirement already satisfied: urllib3<1.25,>=1.21.1 in /usr/local/lib/python3.6/dist-packages (from requests->gTTS) (1.24.3)\n",
            "Requirement already satisfied: idna<2.9,>=2.5 in /usr/local/lib/python3.6/dist-packages (from requests->gTTS) (2.8)\n",
            "Requirement already satisfied: certifi>=2017.4.17 in /usr/local/lib/python3.6/dist-packages (from requests->gTTS) (2019.6.16)\n",
            "Building wheels for collected packages: gTTS, gtts-token\n",
            "  Building wheel for gTTS (setup.py) ... \u001b[?25l\u001b[?25hdone\n",
            "  Created wheel for gTTS: filename=gTTS-2.0.3-cp36-none-any.whl size=24133 sha256=48bc007eedc7e308970c50b48cc5fb137a164d1f3d31e6d8fd554b95a8d46f89\n",
            "  Stored in directory: /root/.cache/pip/wheels/ac/d3/52/db6c154b20dfaab7e0b514eb5eef92cecd057e40e16fdda58b\n",
            "  Building wheel for gtts-token (setup.py) ... \u001b[?25l\u001b[?25hdone\n",
            "  Created wheel for gtts-token: filename=gTTS_token-1.1.3-cp36-none-any.whl size=4095 sha256=3b3da41127f4cd36bb5a889fb319c6cc6e0f14eefa44f4afd0b337a1b0512aec\n",
            "  Stored in directory: /root/.cache/pip/wheels/dd/11/61/33f7e51bf545e910552b2255eead2a7cd8ef54064b46dceb34\n",
            "Successfully built gTTS gtts-token\n",
            "Installing collected packages: gtts-token, gTTS\n",
            "Successfully installed gTTS-2.0.3 gtts-token-1.1.3\n"
          ],
          "name": "stdout"
        }
      ]
    },
    {
      "cell_type": "code",
      "metadata": {
        "id": "9cXLNvYv7LYz",
        "outputId": "fc93df91-d278-4d9c-a01f-7b3607784d15",
        "colab": {
          "base_uri": "https://localhost:8080/",
          "height": 52
        }
      },
      "source": [
        "from gtts import gTTS\n",
        "from IPython.display import Audio\n",
        "tts = gTTS('hello joyjit')\n",
        "tts.save('1.wav')\n",
        "sound_file = '1.wav'\n",
        "Audio(sound_file, autoplay=True)\n",
        "\n",
        "\n"
      ],
      "execution_count": null,
      "outputs": [
        {
          "output_type": "execute_result",
          "data": {
            "text/html": [
              "\n",
              "                <audio controls=\"controls\" autoplay=\"autoplay\">\n",
              "                    <source src=\"data:audio/x-wav;base64,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\" type=\"audio/x-wav\" />\n",
              "                    Your browser does not support the audio element.\n",
              "                </audio>\n",
              "              "
            ],
            "text/plain": [
              "<IPython.lib.display.Audio object>"
            ]
          },
          "metadata": {
            "tags": []
          },
          "execution_count": 7
        }
      ]
    }
  ]
}